{
 "cells": [
  {
   "cell_type": "code",
   "execution_count": null,
   "metadata": {},
   "outputs": [],
   "source": [
    "from easyocr import Reader\n",
    "from transformers import TrOCRProcessor, VisionEncoderDecoderModel\n",
    "from functools import lru_cache\n",
    "import torch\n",
    "import sys\n",
    "import config.model\n",
    "\n",
    "\n",
    "def load_model():\n",
    "    device = \"cuda\" if torch.cuda.is_available() else \"cpu\"\n",
    "    model = VisionEncoderDecoderModel.from_pretrained(config.model.TROCR_MODEL)\n",
    "    processor = TrOCRProcessor.from_pretrained(config.model.TROCR_MODEL)\n",
    "    model.to(device)\n",
    "    reader = Reader([\"en\", \"th\"], gpu=False, recognizer=False)\n",
    "\n",
    "    return reader, model, processor, device\n"
   ]
  },
  {
   "cell_type": "code",
   "execution_count": null,
   "metadata": {},
   "outputs": [],
   "source": []
  }
 ],
 "metadata": {
  "language_info": {
   "name": "python"
  }
 },
 "nbformat": 4,
 "nbformat_minor": 2
}
